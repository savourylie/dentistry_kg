{
 "cells": [
  {
   "cell_type": "code",
   "execution_count": 1,
   "metadata": {},
   "outputs": [],
   "source": [
    "from concurrent.futures import ThreadPoolExecutor, as_completed\n",
    "from functools import partial\n",
    "import json\n",
    "from json.decoder import JSONDecodeError\n",
    "import os\n",
    "\n",
    "from dotenv import load_dotenv\n",
    "from icecream import ic\n",
    "from neo4j import GraphDatabase\n",
    "import pandas as pd\n",
    "from tqdm.auto import tqdm\n",
    "from transformers import AutoTokenizer, AutoModel\n",
    "\n",
    "from data_processing_helpers import flatten_dict, load_schema, process_raw_data, load_data\n",
    "from llm_helpers import create_prompt, process_template, sentences2embeddings\n",
    "from neo4j_helpers import NodeModel, RelationshipModel, create_nodes, create_relationships\n",
    "\n",
    "\n",
    "load_dotenv()\n",
    "\n",
    "OPENAI_API_KEY = os.getenv(\"OPENAI_API_KEY\")\n",
    "OPENAI_MODEL = os.getenv(\"OPENAI_MODEL\")\n",
    "OPENAI_BASE_URL = os.getenv(\"OPENAI_BASE_URL\")\n"
   ]
  },
  {
   "cell_type": "markdown",
   "metadata": {},
   "source": [
    "# Load Label Data"
   ]
  },
  {
   "cell_type": "code",
   "execution_count": 2,
   "metadata": {},
   "outputs": [],
   "source": [
    "schema_list = load_schema(\"data/53_schemas.json\")\n",
    "train_raw_list = load_data(\"data/train_data.json\")\n",
    "val_raw_list = load_data(\"data/val_data.json\")\n",
    "\n",
    "train_list, val_list = process_raw_data(train_raw_list), process_raw_data(val_raw_list)\n",
    "val_sample_list = val_list[:10]\n",
    "# train_data_path = 'data/train_data.json'\n",
    "\n",
    "# with open(train_data_path, 'r') as file:\n",
    "#     train_data = [json.loads(line) for line in file.readlines()]\n",
    "\n",
    "# with open('data/val_data.json', 'r') as file:\n",
    "#     val_data = [json.loads(line) for line in file.readlines()]\n",
    "\n",
    "# train_data_list = [process_raw_data(item) for item in train_data]\n",
    "\n",
    "# train_list = [flatten_dict(item) for item in train_data]\n",
    "# train_sample_list = train_list[:10]\n",
    "\n",
    "# val_list = [flatten_dict(item) for item in val_data]\n",
    "# val_sample_list = val_list[:10]\n",
    "\n",
    "# schema_list = load_schema(\"data/53_schemas.json\")"
   ]
  },
  {
   "cell_type": "code",
   "execution_count": 3,
   "metadata": {},
   "outputs": [
    {
     "data": {
      "text/plain": [
       "{'spo': {'subject': '产后抑郁症',\n",
       "  'subject_type': '疾病',\n",
       "  'object': '轻度情绪失调',\n",
       "  'object_type': '疾病',\n",
       "  'predicate': '鉴别诊断'},\n",
       " 'text': '产后抑郁症@区分产后抑郁症与轻度情绪失调（产后忧郁或“婴儿忧郁”）是重要的，因为轻度情绪失调不需要治疗。'}"
      ]
     },
     "execution_count": 3,
     "metadata": {},
     "output_type": "execute_result"
    }
   ],
   "source": [
    "train_list[0]"
   ]
  },
  {
   "cell_type": "code",
   "execution_count": 4,
   "metadata": {},
   "outputs": [
    {
     "data": {
      "text/plain": [
       "[{'subject_type': '疾病', 'predicate': '预防', 'object_type': '其他'},\n",
       " {'subject_type': '疾病', 'predicate': '阶段', 'object_type': '其他'},\n",
       " {'subject_type': '疾病', 'predicate': '就诊科室', 'object_type': '其他'},\n",
       " {'subject_type': '其他', 'predicate': '同义词（其他/其他）', 'object_type': '其他'},\n",
       " {'subject_type': '疾病', 'predicate': '辅助治疗', 'object_type': '其他治疗'}]"
      ]
     },
     "execution_count": 4,
     "metadata": {},
     "output_type": "execute_result"
    }
   ],
   "source": [
    "schema_list[:5]"
   ]
  },
  {
   "cell_type": "code",
   "execution_count": 5,
   "metadata": {},
   "outputs": [
    {
     "data": {
      "text/plain": [
       "[{'spo': {'subject': '急性胰腺炎',\n",
       "   'subject_type': '疾病',\n",
       "   'object': 'ERCP',\n",
       "   'object_type': '检查',\n",
       "   'predicate': '影像学检查'},\n",
       "  'text': '急性胰腺炎@有研究显示，进行早期 ERCP （24 小时内）可以降低梗阻性胆总管结石患者的并发症发生率和死亡率； 但是，对于无胆总管梗阻的胆汁性急性胰腺炎患者，不需要进行早期 ERCP。'},\n",
       " {'spo': {'subject': '广泛性焦虑症',\n",
       "   'subject_type': '疾病',\n",
       "   'object': '社交性焦虑',\n",
       "   'object_type': '疾病',\n",
       "   'predicate': '鉴别诊断'},\n",
       "  'text': '【诊断】 根据疾病诊断和统计手册第4版标准，焦虑情绪持续6个月以上，并至少下述4项症状： 1.担忧将来的意外事件； 2.担忧自己的能力； 3.担忧过去的行为； 4.躯体不适症状； 5.自我意识（对主体的自我认识）； 6.不断需要得到他人的确认； 7.持续紧张和（或）不能放松； 广泛性焦虑症影响社会交往，与分离性焦虑症比较，更多伴有其他焦虑症，如惊恐发作或单纯性恐怖症。 （二）社交性焦虑 尽管两种疾病均害怕在公众场合下说话，但广泛性焦虑也害怕对过去和将来情形的焦虑。'},\n",
       " {'spo': {'subject': '骨性关节炎',\n",
       "   'subject_type': '疾病',\n",
       "   'object': '关节',\n",
       "   'object_type': '部位',\n",
       "   'predicate': '发病部位'},\n",
       "  'text': '骨性关节炎@在其他关节（如踝关节和腕关节），骨性关节炎比较少见，并且一般有潜在的病因（如结晶性关节病、创伤）。'},\n",
       " {'spo': {'subject': '胆囊穿孔',\n",
       "   'subject_type': '疾病',\n",
       "   'object': '30%',\n",
       "   'object_type': '流行病学',\n",
       "   'predicate': '死亡率'},\n",
       "  'text': '胆囊炎@如果胆囊穿孔，死亡率为 30%。'},\n",
       " {'spo': {'subject': '乙型肝炎',\n",
       "   'subject_type': '疾病',\n",
       "   'object': '不献血',\n",
       "   'object_type': '其他',\n",
       "   'predicate': '预防'},\n",
       "  'text': '乙型肝炎@## 患者指导 HBsAg阳性的人性交时如果对方未接种疫苗或无自然免疫应采取防护，不应与他人共用牙刷或剃须刀，应遮盖开放的割伤和擦伤，使用漂白剂或洗涤剂清洁溢出血液，不献血、不捐献器官或精液。'},\n",
       " {'spo': {'subject': '心绞痛',\n",
       "   'subject_type': '疾病',\n",
       "   'object': 'β受体阻滞剂',\n",
       "   'object_type': '药物',\n",
       "   'predicate': '药物治疗'},\n",
       "  'text': '稳定型缺血性心脏疾病@ 现有的抗心绞痛药物 * 抗心绞痛药物的主要目标是减少心绞痛症状，改善生活质量。稳定型缺血性心脏疾病@ * β受体阻滞剂是一线用药，尤其是对于既往有心肌梗死或左心功能不全史的患者，因为β受体阻滞剂可降低这些患者未来心肌梗死或死亡的风险。'},\n",
       " {'spo': {'subject': '感染性心内膜炎',\n",
       "   'subject_type': '疾病',\n",
       "   'object': '链球菌',\n",
       "   'object_type': '社会学',\n",
       "   'predicate': '病因'},\n",
       "  'text': '感染性心内膜炎@引起 ICU 中感染性心内膜炎的最常见病原体是葡萄球菌，其次是链球菌。感染性心内膜炎@ICU 中感染性心内膜炎的另外一个专有特点是真菌性感染性心内膜炎的发生率增高，因此，如果出现对抗生素治疗无反应的情况时，应考虑真菌性感染性心内膜炎。'},\n",
       " {'spo': {'subject': '稳定型缺血性心脏疾病',\n",
       "   'subject_type': '疾病',\n",
       "   'object': '高强度他汀类药物治疗',\n",
       "   'object_type': '药物',\n",
       "   'predicate': '药物治疗'},\n",
       "  'text': '稳定型缺血性心脏疾病@ * 所有年龄超过 21 岁、LDL 大于或等于 190 的患者都应当接受高强度他汀类药物治疗。'},\n",
       " {'spo': {'subject': '营养性巨幼细胞性贫血',\n",
       "   'subject_type': '疾病',\n",
       "   'object': '维生素B12',\n",
       "   'object_type': '药物',\n",
       "   'predicate': '药物治疗'},\n",
       "  'text': '营养性巨幼细胞性贫血（nutritional megaloblastic anemia)是由于维生素B12和（或）叶酸缺乏所致的一种大细胞性贫血。 维生素B12和叶酸治疗 有神经精神症状者,应以维生素Bl2治疗为主,如单用叶酸反而有加重症状的可能。'},\n",
       " {'spo': {'subject': '原发性高血压',\n",
       "   'subject_type': '疾病',\n",
       "   'object': '适量的咖啡因摄入量',\n",
       "   'object_type': '其他',\n",
       "   'predicate': '预防'},\n",
       "  'text': '原发性高血压@ 因此，适量的咖啡因摄入量是可以接受的。'}]"
      ]
     },
     "execution_count": 5,
     "metadata": {},
     "output_type": "execute_result"
    }
   ],
   "source": [
    "val_sample_list"
   ]
  },
  {
   "cell_type": "markdown",
   "metadata": {},
   "source": [
    "# Create SPO from Unstructured Text"
   ]
  },
  {
   "cell_type": "code",
   "execution_count": 6,
   "metadata": {},
   "outputs": [
    {
     "data": {
      "application/vnd.jupyter.widget-view+json": {
       "model_id": "f7a79d47c59f4cde80b8a3d5655307ea",
       "version_major": 2,
       "version_minor": 0
      },
      "text/plain": [
       "  0%|          | 0/10 [00:00<?, ?it/s]"
      ]
     },
     "metadata": {},
     "output_type": "display_data"
    }
   ],
   "source": [
    "prompts = create_prompt(train_list, val_sample_list, schema_list, sample_size=10)\n",
    "process_template_partial = partial(\n",
    "    process_template, \n",
    "    model=OPENAI_MODEL, \n",
    "    api_key=OPENAI_API_KEY,\n",
    "    base_url=OPENAI_BASE_URL\n",
    ")\n",
    "\n",
    "result_list = []\n",
    "error_case_list = []\n",
    "\n",
    "num_workers = 10\n",
    "\n",
    "with ThreadPoolExecutor(max_workers=num_workers) as executor:\n",
    "    future_to_template = {executor.submit(process_template_partial, prompt): prompt for prompt in prompts}\n",
    "    \n",
    "    for future in tqdm(as_completed(future_to_template), total=len(future_to_template)):\n",
    "        template = future_to_template[future]\n",
    "        try:\n",
    "            result = future.result()\n",
    "            if result[0] == 'error':\n",
    "                error_case_list.append(result[1])\n",
    "            else:\n",
    "                result_list.append(result[1])\n",
    "        except Exception as e:\n",
    "            error_case_list.append(('Exception', str(e)))"
   ]
  },
  {
   "cell_type": "code",
   "execution_count": 7,
   "metadata": {},
   "outputs": [
    {
     "data": {
      "text/plain": [
       "5"
      ]
     },
     "execution_count": 7,
     "metadata": {},
     "output_type": "execute_result"
    }
   ],
   "source": [
    "len(result_list)"
   ]
  },
  {
   "cell_type": "code",
   "execution_count": 8,
   "metadata": {},
   "outputs": [
    {
     "data": {
      "text/plain": [
       "{'subject': '胆囊炎',\n",
       " 'subject_type': '疾病',\n",
       " 'object': '死亡率',\n",
       " 'object_type': '流行病学',\n",
       " 'predicate': '死亡率',\n",
       " 'text': '胆囊炎@如果胆囊穿孔，死亡率为 30%。'}"
      ]
     },
     "execution_count": 8,
     "metadata": {},
     "output_type": "execute_result"
    }
   ],
   "source": [
    "result_list[0]"
   ]
  },
  {
   "cell_type": "markdown",
   "metadata": {},
   "source": [
    "# SPO to Knowledge Graph"
   ]
  },
  {
   "cell_type": "code",
   "execution_count": 9,
   "metadata": {},
   "outputs": [],
   "source": [
    "driver = GraphDatabase.driver(\"bolt://localhost:7687\", auth=(\"neo4j\", \"password\"))\n",
    "\n",
    "result_df = pd.DataFrame(result_list)\n",
    "\n",
    "pattern = r'[^\\u4e00-\\u9fffA-Za-z\\s]'\n",
    "\n",
    "for col in ['subject', 'object', 'predicate']:\n",
    "    # Apply the function to the column\n",
    "    result_df[col] = result_df[col].str.replace(pattern, '', regex=True)\n",
    "    result_df = result_df.drop(result_df[result_df[col] == ''].index)\n",
    "    result_df[col] = result_df[col].str.replace(' ', '_')"
   ]
  },
  {
   "cell_type": "code",
   "execution_count": 10,
   "metadata": {},
   "outputs": [],
   "source": [
    "tokenizer = AutoTokenizer.from_pretrained(\"BAAI/bge-large-en\")\n",
    "model = AutoModel.from_pretrained(\"BAAI/bge-large-en\")\n",
    "model.eval()\n",
    "\n",
    "\n",
    "embedding_func = partial(sentences2embeddings, model=model, tokenizer=tokenizer)  \n",
    "\n",
    "node_knowledge_train = NodeModel(\n",
    "    label=(\"hard_coded_label\", \"Knowledge\"),\n",
    "    id_prop=('text', 'text'),\n",
    "    properties={\n",
    "        \"text\": (\"text_embedding\", embedding_func)\n",
    "    }\n",
    ")\n",
    "\n",
    "node_subject_train = NodeModel(\n",
    "    # label=(\"column_name_label\", \"subject\"),\n",
    "    label=(\"hard_coded_label\", \"Subject\"),\n",
    "    id_prop=('subject', 'name'),\n",
    "    properties={\n",
    "        \"subject_type\": (\"type\", None)\n",
    "    },\n",
    "    # extra_labels=['Subject', 'Result']\n",
    ")\n",
    "\n",
    "node_object_train = NodeModel(\n",
    "    # label=(\"column_name_label\", \"object\"),\n",
    "    label=(\"hard_coded_label\", \"Object\"),\n",
    "    id_prop=('object', 'name'),\n",
    "    properties={\n",
    "        \"object_type\": (\"type\", None)\n",
    "    },\n",
    ")\n",
    "\n",
    "rel_train_knowledge2subject = RelationshipModel(\n",
    "    source_node='Knowledge',\n",
    "    target_node='Subject',\n",
    "    # rel_label=('column_name_label', 'predicate'),\n",
    "    rel_label=('hard_coded_label', 'HAS_SUBJECT'),\n",
    "    source_id=('text', 'text'),\n",
    "    target_id=('subject', 'name'),\n",
    "    # extra_labels=['Predicate', 'Result']\n",
    ")\n",
    "\n",
    "rel_train_subject2object = RelationshipModel(\n",
    "    source_node='Subject',\n",
    "    target_node='Object',\n",
    "    # rel_label=('column_name_label', 'predicate'),\n",
    "    rel_label=('hard_coded_label', 'PREDICATE'),\n",
    "    source_id=('subject', 'name'),\n",
    "    target_id=('object', 'name'),\n",
    "    properties={\n",
    "        \"predicate\": \"type\"\n",
    "    }\n",
    ")\n"
   ]
  },
  {
   "cell_type": "code",
   "execution_count": 11,
   "metadata": {},
   "outputs": [
    {
     "name": "stderr",
     "output_type": "stream",
     "text": [
      "/var/folders/l3/n5f9q7991q7_k4kbqdzy70w00000gn/T/ipykernel_41836/2603383616.py:2: DeprecationWarning: write_transaction has been renamed to execute_write\n",
      "  session.write_transaction(create_nodes, result_df, [node_knowledge_train, node_subject_train, node_object_train])\n"
     ]
    },
    {
     "data": {
      "application/vnd.jupyter.widget-view+json": {
       "model_id": "73b14713b2e5404d84145a7f45268408",
       "version_major": 2,
       "version_minor": 0
      },
      "text/plain": [
       "  0%|          | 0/5 [00:00<?, ?it/s]"
      ]
     },
     "metadata": {},
     "output_type": "display_data"
    },
    {
     "data": {
      "application/vnd.jupyter.widget-view+json": {
       "model_id": "6b7a5df5e55a4268aac270f39ba2de75",
       "version_major": 2,
       "version_minor": 0
      },
      "text/plain": [
       "  0%|          | 0/5 [00:00<?, ?it/s]"
      ]
     },
     "metadata": {},
     "output_type": "display_data"
    },
    {
     "data": {
      "application/vnd.jupyter.widget-view+json": {
       "model_id": "8caa700c6326462e83c61bb8842e37c3",
       "version_major": 2,
       "version_minor": 0
      },
      "text/plain": [
       "  0%|          | 0/5 [00:00<?, ?it/s]"
      ]
     },
     "metadata": {},
     "output_type": "display_data"
    },
    {
     "name": "stderr",
     "output_type": "stream",
     "text": [
      "/var/folders/l3/n5f9q7991q7_k4kbqdzy70w00000gn/T/ipykernel_41836/2603383616.py:3: DeprecationWarning: write_transaction has been renamed to execute_write\n",
      "  session.write_transaction(create_relationships, result_df, [rel_train_knowledge2subject, rel_train_subject2object])\n"
     ]
    }
   ],
   "source": [
    "with driver.session() as session:\n",
    "    session.write_transaction(create_nodes, result_df, [node_knowledge_train, node_subject_train, node_object_train])\n",
    "    session.write_transaction(create_relationships, result_df, [rel_train_knowledge2subject, rel_train_subject2object])"
   ]
  },
  {
   "cell_type": "code",
   "execution_count": 13,
   "metadata": {},
   "outputs": [
    {
     "name": "stderr",
     "output_type": "stream",
     "text": [
      "Parent run b335a461-068b-4af1-8133-125e744e06da not found for run 749fddd8-5463-4f5b-94fc-7f8d22c3457e. Treating as a root run.\n"
     ]
    },
    {
     "name": "stdout",
     "output_type": "stream",
     "text": [
      "\n",
      "\n",
      "\u001b[1m> Entering new AgentExecutor chain...\u001b[0m\n",
      "\u001b[32;1m\u001b[1;3mThought: Do I need to use a tool? Yes\n",
      "Action: Medical Knowledge Search\n",
      "Action: 胆囊炎死亡率\n",
      "Observation\u001b[0mInvalid Format: Missing 'Action Input:' after 'Action:'\u001b[32;1m\u001b[1;3mThought: Do I need to use a tool? Yes\n",
      "Action: Medical Knowledge Search\n",
      "Action Input: 胆囊炎死亡率\n",
      "Observation\u001b[0m\u001b[33;1m\u001b[1;3m{'input': '胆囊炎死亡率\\nObservation', 'context': [Document(page_content='乙型肝炎@## 患者指导 HBsAg阳性的人性交时如果对方未接种疫苗或无自然免疫应采取防护，不应与他人共用牙刷或剃须刀，应遮盖开放的割伤和擦伤，使用漂白剂或洗涤剂清洁溢出血液，不献血、不捐献器官或精液。'), Document(page_content='胆囊炎@如果胆囊穿孔，死亡率为 30%。'), Document(page_content='稳定型缺血性心脏疾病@ * 所有年龄超过 21 岁、LDL 大于或等于 190 的患者都应当接受高强度他汀类药物治疗。'), Document(page_content='骨性关节炎@在其他关节（如踝关节和腕关节），骨性关节炎比较少见，并且一般有潜在的病因（如结晶性关节病、创伤）。')], 'answer': '根据给定的上下文，如果胆囊炎导致胆囊穿孔，死亡率为 30%。'}\u001b[0m\u001b[32;1m\u001b[1;3mThought: Do I need to use a tool? No\n",
      "Final answer: 如果胆囊炎导致胆囊穿孔，死亡率为30%。\u001b[0mInvalid Format: Missing 'Action:' after 'Thought:\u001b[32;1m\u001b[1;3mThought: Do I need to use a tool? No\n",
      "Final answer: 如果胆囊炎导致胆囊穿孔，死亡率为30%。\u001b[0mInvalid Format: Missing 'Action:' after 'Thought:\u001b[32;1m\u001b[1;3mThought: Do I need to use a tool? No\n",
      "Final answer: 如果胆囊炎导致胆囊穿孔，死亡率为30%。\u001b[0mInvalid Format: Missing 'Action:' after 'Thought:\u001b[32;1m\u001b[1;3mThought: Do I need to use a tool? No\n",
      "Final answer: 如果胆囊炎导致胆囊穿孔，死亡率为30%。\u001b[0mInvalid Format: Missing 'Action:' after 'Thought:\u001b[32;1m\u001b[1;3mThought: Do I need to use a tool? No\n",
      "Final answer: 如果胆囊炎导致胆囊穿孔，死亡率为30%。\u001b[0mInvalid Format: Missing 'Action:' after 'Thought:\u001b[32;1m\u001b[1;3mThought: Do I need to use a tool? No\n",
      "Final answer: 如果胆囊炎导致胆囊穿孔，死亡率为30%。\u001b[0mInvalid Format: Missing 'Action:' after 'Thought:\u001b[32;1m\u001b[1;3mThought: Do I need to use a tool? No\n",
      "Final answer: 如果胆囊炎导致胆囊穿孔，死亡率为30%。\u001b[0mInvalid Format: Missing 'Action:' after 'Thought:\u001b[32;1m\u001b[1;3mThought: Do I need to use a tool? No\n",
      "Final answer: 如果胆囊炎导致胆囊穿孔，死亡率为30%。\u001b[0mInvalid Format: Missing 'Action:' after 'Thought:\u001b[32;1m\u001b[1;3mThought: Do I need to use a tool? No\n",
      "Final answer: 如果胆囊炎导致胆囊穿孔，死亡率为30%。\u001b[0mInvalid Format: Missing 'Action:' after 'Thought:\u001b[32;1m\u001b[1;3mThought: Do I need to use a tool? No\n",
      "Final answer: 如果胆囊炎导致胆囊穿孔，死亡率为30%。\u001b[0mInvalid Format: Missing 'Action:' after 'Thought:\u001b[32;1m\u001b[1;3mThought: Do I need to use a tool? No\n",
      "Final answer: 如果胆囊炎导致胆囊穿孔，死亡率为30%。\u001b[0mInvalid Format: Missing 'Action:' after 'Thought:\u001b[32;1m\u001b[1;3mThought: Do I need to use a tool? No\n",
      "Final answer: 如果胆囊炎导致胆囊穿孔，死亡率为30%。\u001b[0mInvalid Format: Missing 'Action:' after 'Thought:\u001b[32;1m\u001b[1;3mThought: Do I need to use a tool? No\n",
      "Final answer: 如果胆囊炎导致胆囊穿孔，死亡率为30%。\u001b[0mInvalid Format: Missing 'Action:' after 'Thought:\u001b[32;1m\u001b[1;3m\u001b[0m\n",
      "\n",
      "\u001b[1m> Finished chain.\u001b[0m\n"
     ]
    }
   ],
   "source": [
    "from agent import generate_response\n",
    "\n",
    "\n",
    "message = '胆囊炎死亡率有多高？'\n",
    "\n",
    "response = generate_response(message)"
   ]
  },
  {
   "cell_type": "code",
   "execution_count": null,
   "metadata": {},
   "outputs": [],
   "source": [
    "print(response)"
   ]
  },
  {
   "cell_type": "code",
   "execution_count": null,
   "metadata": {},
   "outputs": [],
   "source": []
  }
 ],
 "metadata": {
  "kernelspec": {
   "display_name": "venv",
   "language": "python",
   "name": "python3"
  },
  "language_info": {
   "codemirror_mode": {
    "name": "ipython",
    "version": 3
   },
   "file_extension": ".py",
   "mimetype": "text/x-python",
   "name": "python",
   "nbconvert_exporter": "python",
   "pygments_lexer": "ipython3",
   "version": "3.9.11"
  }
 },
 "nbformat": 4,
 "nbformat_minor": 2
}
