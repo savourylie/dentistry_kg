{
 "cells": [
  {
   "cell_type": "code",
   "execution_count": 14,
   "metadata": {},
   "outputs": [],
   "source": [
    "import pickle\n",
    "\n",
    "def calculate_iou(set1, set2):\n",
    "    \"\"\"\n",
    "    Calculate the Intersection over Union (IoU) of two sets.\n",
    "\n",
    "    Args:\n",
    "    set1 (set): The first set.\n",
    "    set2 (set): The second set.\n",
    "\n",
    "    Returns:\n",
    "    float: The IoU of the two sets.\n",
    "    \"\"\"\n",
    "    # Calculate the intersection\n",
    "    intersection = set1.intersection(set2)\n",
    "\n",
    "    # Calculate the union\n",
    "    union = set1.union(set2)\n",
    "\n",
    "    # Calculate the IoU\n",
    "    iou = len(intersection) / len(union)\n",
    "\n",
    "    return iou\n",
    "\n",
    "file_path = 'data/val_result.pkl'\n",
    "\n",
    "# Open the file in read-binary mode and load the list of dictionaries\n",
    "with open(file_path, 'rb') as file:\n",
    "    val_result_list = pickle.load(file)"
   ]
  },
  {
   "cell_type": "code",
   "execution_count": 15,
   "metadata": {},
   "outputs": [],
   "source": [
    "result, label = val_result_list[0]"
   ]
  },
  {
   "cell_type": "code",
   "execution_count": 23,
   "metadata": {},
   "outputs": [
    {
     "name": "stdout",
     "output_type": "stream",
     "text": [
      "Error with result: ('object', TypeError(\"unhashable type: 'list'\"))\n",
      "Error with result: ('object_type', TypeError(\"unhashable type: 'list'\"))\n"
     ]
    }
   ],
   "source": [
    "exact_match = 0\n",
    "\n",
    "result_predicate_set = set()\n",
    "result_subject_set = set()\n",
    "result_object_set = set()\n",
    "result_subject_type_set = set()\n",
    "result_object_type_set = set()\n",
    "\n",
    "label_predicate_set = set()\n",
    "label_subject_set = set()\n",
    "label_object_set = set()\n",
    "label_subject_type_set = set()\n",
    "label_object_type_set = set()\n",
    "\n",
    "def try_add_to_set(s, d, key, element_name):\n",
    "    try:\n",
    "        s.add(d[key])\n",
    "    except KeyError:\n",
    "        print(f'KeyError: {key} not found in {element_name}')\n",
    "    except Exception as e:\n",
    "        print(f'Error with {element_name}: {(key, e)}')\n",
    "        \n",
    "for i, (result, label) in enumerate(val_result_list):\n",
    "    if result == label:\n",
    "        exact_match += 1\n",
    "\n",
    "    if 'predicate' not in result:\n",
    "        continue\n",
    "    if 'subject' not in result:\n",
    "        continue\n",
    "    if 'object' not in result:\n",
    "        continue\n",
    "    \n",
    "    try_add_to_set(result_predicate_set, result, 'predicate', 'result')\n",
    "    try_add_to_set(result_subject_set, result, 'subject', 'result')\n",
    "    try_add_to_set(result_object_set, result, 'object', 'result')\n",
    "    try_add_to_set(result_subject_type_set, result, 'subject_type', 'result')\n",
    "    try_add_to_set(result_object_type_set, result, 'object_type', 'result')\n",
    "\n",
    "    try_add_to_set(label_predicate_set, label, 'predicate', 'label')\n",
    "    try_add_to_set(label_subject_set, label, 'subject', 'label')\n",
    "    try_add_to_set(label_object_set, label, 'object', 'label')\n",
    "    try_add_to_set(label_subject_type_set, label, 'subject_type', 'label')\n",
    "    try_add_to_set(label_object_type_set, label, 'object_type', 'label')\n",
    "\n",
    "predicate_iou = calculate_iou(result_predicate_set, label_predicate_set)\n",
    "subject_iou = calculate_iou(result_subject_set, label_subject_set)\n",
    "object_iou = calculate_iou(result_object_set, label_object_set)\n",
    "subject_type_iou = calculate_iou(result_subject_type_set, label_subject_type_set)\n",
    "object_type_iou = calculate_iou(result_object_type_set, label_object_type_set)\n",
    "\n",
    "perfect_match_rate = exact_match / len(val_result_list)"
   ]
  },
  {
   "cell_type": "code",
   "execution_count": 25,
   "metadata": {},
   "outputs": [
    {
     "name": "stdout",
     "output_type": "stream",
     "text": [
      "Predicate IOU:  0.5679012345679012\n",
      "Subject IOU:  0.519280205655527\n",
      "Object IOU:  0.24156588160407383\n",
      "Subject Type IOU:  0.5555555555555556\n",
      "Object Type IOU:  0.7857142857142857\n"
     ]
    }
   ],
   "source": [
    "print(\"Predicate IOU: \", predicate_iou)\n",
    "print(\"Subject IOU: \", subject_iou)\n",
    "print(\"Object IOU: \", object_iou)\n",
    "print(\"Subject Type IOU: \", subject_type_iou)\n",
    "print(\"Object Type IOU: \", object_type_iou)"
   ]
  },
  {
   "cell_type": "code",
   "execution_count": 26,
   "metadata": {},
   "outputs": [],
   "source": [
    "result_list, label_list = zip(*val_result_list)"
   ]
  },
  {
   "cell_type": "code",
   "execution_count": 30,
   "metadata": {},
   "outputs": [],
   "source": [
    "import pandas as pd\n",
    "\n",
    "result_df, label_df = pd.DataFrame(result_list), pd.DataFrame(label_list)"
   ]
  },
  {
   "cell_type": "code",
   "execution_count": 32,
   "metadata": {},
   "outputs": [
    {
     "data": {
      "text/html": [
       "<div>\n",
       "<style scoped>\n",
       "    .dataframe tbody tr th:only-of-type {\n",
       "        vertical-align: middle;\n",
       "    }\n",
       "\n",
       "    .dataframe tbody tr th {\n",
       "        vertical-align: top;\n",
       "    }\n",
       "\n",
       "    .dataframe thead th {\n",
       "        text-align: right;\n",
       "    }\n",
       "</style>\n",
       "<table border=\"1\" class=\"dataframe\">\n",
       "  <thead>\n",
       "    <tr style=\"text-align: right;\">\n",
       "      <th></th>\n",
       "      <th>subject</th>\n",
       "      <th>subject_type</th>\n",
       "      <th>object</th>\n",
       "      <th>object_type</th>\n",
       "      <th>predicate</th>\n",
       "    </tr>\n",
       "  </thead>\n",
       "  <tbody>\n",
       "    <tr>\n",
       "      <th>0</th>\n",
       "      <td>胆囊炎</td>\n",
       "      <td>疾病</td>\n",
       "      <td>30%</td>\n",
       "      <td>流行病学</td>\n",
       "      <td>死亡率</td>\n",
       "    </tr>\n",
       "    <tr>\n",
       "      <th>1</th>\n",
       "      <td>骨性关节炎</td>\n",
       "      <td>疾病</td>\n",
       "      <td>踝关节和腕关节</td>\n",
       "      <td>部位</td>\n",
       "      <td>发病部位</td>\n",
       "    </tr>\n",
       "    <tr>\n",
       "      <th>2</th>\n",
       "      <td>急性胰腺炎</td>\n",
       "      <td>疾病</td>\n",
       "      <td>早期 ERCP</td>\n",
       "      <td>检查</td>\n",
       "      <td>辅助检查</td>\n",
       "    </tr>\n",
       "    <tr>\n",
       "      <th>3</th>\n",
       "      <td>乙型肝炎</td>\n",
       "      <td>疾病</td>\n",
       "      <td>HBsAg阳性的人性交时如果对方未接种疫苗或无自然免疫应采取防护，不应与他人共用牙刷或剃须刀...</td>\n",
       "      <td>社会学</td>\n",
       "      <td>高危因素</td>\n",
       "    </tr>\n",
       "    <tr>\n",
       "      <th>4</th>\n",
       "      <td>感染性心内膜炎</td>\n",
       "      <td>疾病</td>\n",
       "      <td>葡萄球菌</td>\n",
       "      <td>疾病</td>\n",
       "      <td>相关（导致）</td>\n",
       "    </tr>\n",
       "  </tbody>\n",
       "</table>\n",
       "</div>"
      ],
      "text/plain": [
       "   subject subject_type                                             object  \\\n",
       "0      胆囊炎           疾病                                                30%   \n",
       "1    骨性关节炎           疾病                                            踝关节和腕关节   \n",
       "2    急性胰腺炎           疾病                                            早期 ERCP   \n",
       "3     乙型肝炎           疾病  HBsAg阳性的人性交时如果对方未接种疫苗或无自然免疫应采取防护，不应与他人共用牙刷或剃须刀...   \n",
       "4  感染性心内膜炎           疾病                                               葡萄球菌   \n",
       "\n",
       "  object_type predicate  \n",
       "0        流行病学       死亡率  \n",
       "1          部位      发病部位  \n",
       "2          检查      辅助检查  \n",
       "3         社会学      高危因素  \n",
       "4          疾病    相关（导致）  "
      ]
     },
     "execution_count": 32,
     "metadata": {},
     "output_type": "execute_result"
    }
   ],
   "source": [
    "result_df.head()"
   ]
  },
  {
   "cell_type": "code",
   "execution_count": null,
   "metadata": {},
   "outputs": [],
   "source": []
  }
 ],
 "metadata": {
  "kernelspec": {
   "display_name": "venv",
   "language": "python",
   "name": "python3"
  },
  "language_info": {
   "codemirror_mode": {
    "name": "ipython",
    "version": 3
   },
   "file_extension": ".py",
   "mimetype": "text/x-python",
   "name": "python",
   "nbconvert_exporter": "python",
   "pygments_lexer": "ipython3",
   "version": "3.9.11"
  }
 },
 "nbformat": 4,
 "nbformat_minor": 2
}
