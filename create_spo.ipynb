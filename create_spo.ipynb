{
 "cells": [
  {
   "cell_type": "code",
   "execution_count": 9,
   "metadata": {},
   "outputs": [],
   "source": [
    "import requests\n",
    "import json\n",
    "from json.decoder import JSONDecodeError\n",
    "import os\n",
    "from dotenv import load_dotenv\n",
    "\n",
    "load_dotenv()\n",
    "\n",
    "OPENAI_API_KEY = os.getenv(\"OPENAI_API_KEY\")\n",
    "OPENAI_MODEL = os.getenv(\"OPENAI_MODEL\")\n",
    "OPENAI_BASE_URL = os.getenv(\"OPENAI_BASE_URL\")\n",
    "\n",
    "\n",
    "def parse_json_markdown(md_string):\n",
    "    start = md_string.find('{')\n",
    "    # Find the ending position of the JSON part\n",
    "    end = md_string.rfind('}') + 1\n",
    "\n",
    "    # Extract the JSON string\n",
    "    json_string = md_string[start:end]\n",
    "\n",
    "    # Parse the JSON string into a Python dictionary\n",
    "    try:\n",
    "        data = json.loads(json_string)\n",
    "    except JSONDecodeError as e:\n",
    "        data = eval(json_string)\n",
    "\n",
    "    # Print the dictionary\n",
    "    return data\n",
    "\n",
    "def load_schema(data_path):\n",
    "    with open(data_path, \"r\") as f:\n",
    "        schema_list = [eval(x) for x in f.readlines()]\n",
    "\n",
    "    return schema_list\n",
    "\n",
    "def load_data(data_path):\n",
    "    with open(data_path, 'r', encoding='utf-8') as file:\n",
    "        content = file.read()\n",
    "\n",
    "    json_strings = content.strip().split('\\n')\n",
    "    data_list = [json.loads(json_str) for json_str in json_strings]\n",
    "\n",
    "    return data_list\n",
    "\n",
    "def process_raw_data(raw_data_list):\n",
    "    train_list = []\n",
    "\n",
    "    for row in raw_data_list:\n",
    "        record = {\"spo\": {}}\n",
    "\n",
    "        record['text'] = row['text']\n",
    "        record['spo']['subject'] = row[\"spo_list\"][0][\"subject\"]\n",
    "        record['spo']['subject_type'] = row[\"spo_list\"][0][\"subject_type\"]\n",
    "        record['spo']['object'] = row[\"spo_list\"][0][\"object\"]\n",
    "        record['spo']['object_type'] = row[\"spo_list\"][0][\"object_type\"]\n",
    "        record['spo']['predicate'] = row[\"spo_list\"][0][\"predicate\"]\n",
    "        train_list.append(record)\n",
    "    \n",
    "    return train_list\n",
    "\n",
    "\n",
    "schema_list = load_schema(\"data/53_schemas.json\")\n",
    "train_raw_list = load_data(\"data/train_data.json\")\n",
    "val_raw_list = load_data(\"data/val_data.json\")\n"
   ]
  },
  {
   "cell_type": "code",
   "execution_count": 10,
   "metadata": {},
   "outputs": [
    {
     "data": {
      "text/plain": [
       "[{'subject_type': '疾病', 'predicate': '预防', 'object_type': '其他'},\n",
       " {'subject_type': '疾病', 'predicate': '阶段', 'object_type': '其他'},\n",
       " {'subject_type': '疾病', 'predicate': '就诊科室', 'object_type': '其他'},\n",
       " {'subject_type': '其他', 'predicate': '同义词（其他/其他）', 'object_type': '其他'},\n",
       " {'subject_type': '疾病', 'predicate': '辅助治疗', 'object_type': '其他治疗'},\n",
       " {'subject_type': '疾病', 'predicate': '化疗', 'object_type': '其他治疗'},\n",
       " {'subject_type': '疾病', 'predicate': '放射治疗', 'object_type': '其他治疗'},\n",
       " {'subject_type': '其他治疗',\n",
       "  'predicate': '同义词（其他治疗/其他治疗）',\n",
       "  'object_type': '其他治疗'},\n",
       " {'subject_type': '疾病', 'predicate': '手术治疗', 'object_type': '手术治疗'},\n",
       " {'subject_type': '手术治疗',\n",
       "  'predicate': '同义词（手术治疗/手术治疗）',\n",
       "  'object_type': '手术治疗'},\n",
       " {'subject_type': '疾病', 'predicate': '实验室检查', 'object_type': '检查'},\n",
       " {'subject_type': '疾病', 'predicate': '影像学检查', 'object_type': '检查'},\n",
       " {'subject_type': '疾病', 'predicate': '辅助检查', 'object_type': '检查'},\n",
       " {'subject_type': '疾病', 'predicate': '组织学检查', 'object_type': '检查'},\n",
       " {'subject_type': '检查', 'predicate': '同义词（检查/检查）', 'object_type': '检查'},\n",
       " {'subject_type': '疾病', 'predicate': '内窥镜检查', 'object_type': '检查'},\n",
       " {'subject_type': '疾病', 'predicate': '筛查', 'object_type': '检查'},\n",
       " {'subject_type': '疾病', 'predicate': '多发群体', 'object_type': '流行病学'},\n",
       " {'subject_type': '疾病', 'predicate': '发病率', 'object_type': '流行病学'},\n",
       " {'subject_type': '疾病', 'predicate': '发病年龄', 'object_type': '流行病学'},\n",
       " {'subject_type': '疾病', 'predicate': '多发地区', 'object_type': '流行病学'},\n",
       " {'subject_type': '疾病', 'predicate': '发病性别倾向', 'object_type': '流行病学'},\n",
       " {'subject_type': '疾病', 'predicate': '死亡率', 'object_type': '流行病学'},\n",
       " {'subject_type': '疾病', 'predicate': '多发季节', 'object_type': '流行病学'},\n",
       " {'subject_type': '疾病', 'predicate': '传播途径', 'object_type': '流行病学'},\n",
       " {'subject_type': '流行病学',\n",
       "  'predicate': '同义词（流行病学/流行病学）',\n",
       "  'object_type': '流行病学'},\n",
       " {'subject_type': '疾病', 'predicate': '同义词（疾病/疾病）', 'object_type': '疾病'},\n",
       " {'subject_type': '疾病', 'predicate': '并发症', 'object_type': '疾病'},\n",
       " {'subject_type': '疾病', 'predicate': '病理分型', 'object_type': '疾病'},\n",
       " {'subject_type': '疾病', 'predicate': '相关（导致）', 'object_type': '疾病'},\n",
       " {'subject_type': '疾病', 'predicate': '鉴别诊断', 'object_type': '疾病'},\n",
       " {'subject_type': '疾病', 'predicate': '相关（转化）', 'object_type': '疾病'},\n",
       " {'subject_type': '疾病', 'predicate': '相关（症状）', 'object_type': '疾病'},\n",
       " {'subject_type': '疾病', 'predicate': '临床表现', 'object_type': '症状'},\n",
       " {'subject_type': '疾病', 'predicate': '治疗后症状', 'object_type': '症状'},\n",
       " {'subject_type': '疾病', 'predicate': '侵及周围组织转移的症状', 'object_type': '症状'},\n",
       " {'subject_type': '症状', 'predicate': '同义词（症状/症状）', 'object_type': '症状'},\n",
       " {'subject_type': '疾病', 'predicate': '病因', 'object_type': '社会学'},\n",
       " {'subject_type': '疾病', 'predicate': '高危因素', 'object_type': '社会学'},\n",
       " {'subject_type': '疾病', 'predicate': '风险评估因素', 'object_type': '社会学'},\n",
       " {'subject_type': '疾病', 'predicate': '病史', 'object_type': '社会学'},\n",
       " {'subject_type': '疾病', 'predicate': '遗传因素', 'object_type': '社会学'},\n",
       " {'subject_type': '社会学', 'predicate': '同义词（社会学/社会学）', 'object_type': '社会学'},\n",
       " {'subject_type': '疾病', 'predicate': '发病机制', 'object_type': '社会学'},\n",
       " {'subject_type': '疾病', 'predicate': '病理生理', 'object_type': '社会学'},\n",
       " {'subject_type': '疾病', 'predicate': '药物治疗', 'object_type': '药物'},\n",
       " {'subject_type': '药物', 'predicate': '同义词（药物/药物）', 'object_type': '药物'},\n",
       " {'subject_type': '疾病', 'predicate': '发病部位', 'object_type': '部位'},\n",
       " {'subject_type': '疾病', 'predicate': '转移部位', 'object_type': '部位'},\n",
       " {'subject_type': '疾病', 'predicate': '外侵部位', 'object_type': '部位'},\n",
       " {'subject_type': '部位', 'predicate': '同义词（部位/部位）', 'object_type': '部位'},\n",
       " {'subject_type': '疾病', 'predicate': '预后状况', 'object_type': '预后'},\n",
       " {'subject_type': '疾病', 'predicate': '预后生存率', 'object_type': '预后'}]"
      ]
     },
     "execution_count": 10,
     "metadata": {},
     "output_type": "execute_result"
    }
   ],
   "source": [
    "schema_list"
   ]
  },
  {
   "cell_type": "code",
   "execution_count": 11,
   "metadata": {},
   "outputs": [
    {
     "data": {
      "text/plain": [
       "{'text': '产后抑郁症@区分产后抑郁症与轻度情绪失调（产后忧郁或“婴儿忧郁”）是重要的，因为轻度情绪失调不需要治疗。',\n",
       " 'spo_list': [{'Combined': False,\n",
       "   'object': '轻度情绪失调',\n",
       "   'object_type': '疾病',\n",
       "   'predicate': '鉴别诊断',\n",
       "   'subject': '产后抑郁症',\n",
       "   'subject_type': '疾病'}]}"
      ]
     },
     "execution_count": 11,
     "metadata": {},
     "output_type": "execute_result"
    }
   ],
   "source": [
    "train_raw_list[0]"
   ]
  },
  {
   "cell_type": "code",
   "execution_count": 12,
   "metadata": {},
   "outputs": [],
   "source": [
    "train_list, val_list = process_raw_data(train_raw_list), process_raw_data(val_raw_list)"
   ]
  },
  {
   "cell_type": "markdown",
   "metadata": {},
   "source": [
    "# Check deepseek balace"
   ]
  },
  {
   "cell_type": "code",
   "execution_count": 13,
   "metadata": {},
   "outputs": [],
   "source": [
    "# url = \"https://api.deepseek.com/user/balance\"\n",
    "\n",
    "# payload={}\n",
    "# headers = {\n",
    "#   'Accept': 'application/json',\n",
    "#   'Authorization': f'Bearer {API_KEY}'\n",
    "# }\n",
    "\n",
    "# response = requests.request(\"GET\", url, headers=headers, data=payload)\n",
    "\n",
    "# print(response.text)"
   ]
  },
  {
   "cell_type": "code",
   "execution_count": 14,
   "metadata": {},
   "outputs": [
    {
     "name": "stdout",
     "output_type": "stream",
     "text": [
      "Hello! How can I assist you today?\n"
     ]
    }
   ],
   "source": [
    "from openai import OpenAI\n",
    "\n",
    "def create_chat_completions(model, system_message, user_message, max_tokens=1024, temperature=0.7, base_url=None):\n",
    "    client = OpenAI(api_key=OPENAI_API_KEY, base_url=base_url)\n",
    "\n",
    "    response = client.chat.completions.create(\n",
    "        model=model,\n",
    "        messages=[\n",
    "            {\"role\": \"system\", \"content\": system_message},\n",
    "            {\"role\": \"user\", \"content\": user_message},\n",
    "      ],\n",
    "        max_tokens=max_tokens,\n",
    "        temperature=temperature,\n",
    "        stream=False\n",
    "    )\n",
    "\n",
    "    return response.choices[0].message.content\n",
    "\n",
    "result = create_chat_completions(model=OPENAI_MODEL, system_message=\"You are a helpful assistant\", user_message=\"Hello\", base_url=OPENAI_BASE_URL)\n",
    "print(result)\n"
   ]
  },
  {
   "cell_type": "code",
   "execution_count": 7,
   "metadata": {},
   "outputs": [],
   "source": [
    "import random\n",
    "from collections import namedtuple\n",
    "\n",
    "def create_prompt(train_list, val_list, schema_list, sample_size=10):\n",
    "    Template = namedtuple(\"Template\", [\"system_message\", \"user_message\", \"label\"])\n",
    "\n",
    "    for row in val_list:\n",
    "        random_sample = random.choices(train_list, k=sample_size)\n",
    "\n",
    "        system_message = \"你是专门进行实体抽取的专家。请在 schema 中定义的范畴，参考范例中的格式，从 user 给定句子中抽取出符合 schema 定义的实体，不存在的实体类型返回空列表。请按照JSON字符串的格式回答。\\n\\n\"\n",
    "\n",
    "        system_message += \"Schema: \\n\"\n",
    "        for schema in schema_list:\n",
    "            system_message += str(schema) + \"\\n\"\n",
    "        \n",
    "        system_message += \"\\nSamples: \\n\"\n",
    "        for record in random_sample:\n",
    "            system_message += f\"{record['text']} ==> {str(record['spo'])}\" + \"\\n\"\n",
    "\n",
    "        user_message = row['text'] + \" ==> \"\n",
    "\n",
    "        template = Template(\n",
    "            system_message=system_message, \n",
    "            user_message=user_message,\n",
    "            label=row['spo'])\n",
    "\n",
    "        yield template\n",
    "\n"
   ]
  },
  {
   "cell_type": "code",
   "execution_count": null,
   "metadata": {},
   "outputs": [],
   "source": [
    "# from tqdm.auto import tqdm\n",
    "\n",
    "# prompts = create_prompt(train_list, val_list, schema_list, sample_size=20)\n",
    "\n",
    "# error_case_list = []\n",
    "# result_list = []\n",
    "\n",
    "# for template in tqdm(prompts, total=len(val_list)):\n",
    "#     system_message, user_message, label = template.system_message, template.user_message, template.label\n",
    "\n",
    "#     result = create_chat_completions(model=\"deepseek-chat\", system_message=system_message, user_message=user_message, base_url=\"https://api.deepseek.com\")\n",
    "\n",
    "#     try:\n",
    "#         result_parsed = parse_json_markdown(result)\n",
    "#     except Exception as e:\n",
    "#         error_case_list.append((result, label))\n",
    "#         continue\n",
    "#     else:\n",
    "#         result_list.append((result_parsed, label))\n",
    "\n",
    "#     if len(result_list) >= 3:\n",
    "#         break"
   ]
  },
  {
   "cell_type": "code",
   "execution_count": 8,
   "metadata": {},
   "outputs": [
    {
     "data": {
      "application/vnd.jupyter.widget-view+json": {
       "model_id": "ee77417f244c4081bdfdb8a1d983dbee",
       "version_major": 2,
       "version_minor": 0
      },
      "text/plain": [
       "  0%|          | 0/3585 [00:00<?, ?it/s]"
      ]
     },
     "metadata": {},
     "output_type": "display_data"
    }
   ],
   "source": [
    "from tqdm.auto import tqdm\n",
    "from concurrent.futures import ThreadPoolExecutor, as_completed\n",
    "\n",
    "prompts = create_prompt(train_list, val_list, schema_list, sample_size=20)\n",
    "\n",
    "error_case_list = []\n",
    "result_list = []\n",
    "\n",
    "def process_template(template):\n",
    "    system_message, user_message, label = template.system_message, template.user_message, template.label\n",
    "\n",
    "    try:\n",
    "        result = create_chat_completions(model=\"deepseek-chat\", system_message=system_message, user_message=user_message, base_url=\"https://api.deepseek.com\")\n",
    "        result_parsed = parse_json_markdown(result)\n",
    "        return (result_parsed, label)\n",
    "    except Exception as e:\n",
    "        return ('error', (result, label))\n",
    "\n",
    "# Define the number of workers for concurrency\n",
    "num_workers = 5\n",
    "\n",
    "with ThreadPoolExecutor(max_workers=num_workers) as executor:\n",
    "    future_to_template = {executor.submit(process_template, template): template for template in prompts}\n",
    "    \n",
    "    for future in tqdm(as_completed(future_to_template), total=len(future_to_template)):\n",
    "        template = future_to_template[future]\n",
    "        try:\n",
    "            result = future.result()\n",
    "            if result[0] == 'error':\n",
    "                error_case_list.append(result[1])\n",
    "            else:\n",
    "                result_list.append(result)\n",
    "        except Exception as e:\n",
    "            error_case_list.append(('Exception', str(e)))\n",
    "\n",
    "\n",
    "# # Printing the results (optional, for debugging)\n",
    "# print(\"Results:\", result_list)\n",
    "# print(\"Errors:\", error_case_list)"
   ]
  },
  {
   "cell_type": "code",
   "execution_count": 9,
   "metadata": {},
   "outputs": [],
   "source": [
    "error_rate = len(error_case_list) / len(val_list)\n"
   ]
  },
  {
   "cell_type": "code",
   "execution_count": 10,
   "metadata": {},
   "outputs": [
    {
     "name": "stdout",
     "output_type": "stream",
     "text": [
      "0.3788005578800558\n"
     ]
    }
   ],
   "source": [
    "print(error_rate)"
   ]
  },
  {
   "cell_type": "code",
   "execution_count": 15,
   "metadata": {},
   "outputs": [
    {
     "name": "stdout",
     "output_type": "stream",
     "text": [
      "List of dictionaries has been saved to data/val_result.pkl\n"
     ]
    }
   ],
   "source": [
    "import pickle\n",
    "\n",
    "# File path where the pickle file will be saved\n",
    "file_path = 'data/val_result.pkl'\n",
    "\n",
    "# Open the file in write-binary mode and save the list of dictionaries\n",
    "with open(file_path, 'wb') as file:\n",
    "    pickle.dump(result_list, file)\n",
    "\n",
    "print(f\"List of dictionaries has been saved to {file_path}\")"
   ]
  },
  {
   "cell_type": "code",
   "execution_count": 16,
   "metadata": {},
   "outputs": [],
   "source": [
    "# Open the file in read-binary mode and load the list of dictionaries\n",
    "with open(file_path, 'rb') as file:\n",
    "    loaded_list_of_dicts = pickle.load(file)\n"
   ]
  },
  {
   "cell_type": "code",
   "execution_count": null,
   "metadata": {},
   "outputs": [],
   "source": []
  }
 ],
 "metadata": {
  "kernelspec": {
   "display_name": "venv",
   "language": "python",
   "name": "python3"
  },
  "language_info": {
   "codemirror_mode": {
    "name": "ipython",
    "version": 3
   },
   "file_extension": ".py",
   "mimetype": "text/x-python",
   "name": "python",
   "nbconvert_exporter": "python",
   "pygments_lexer": "ipython3",
   "version": "3.9.11"
  }
 },
 "nbformat": 4,
 "nbformat_minor": 2
}
